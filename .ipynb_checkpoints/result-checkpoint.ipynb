{
 "cells": [
  {
   "cell_type": "markdown",
   "metadata": {},
   "source": [
    "# Result User Study"
   ]
  },
  {
   "cell_type": "code",
   "execution_count": 1,
   "metadata": {},
   "outputs": [],
   "source": [
    "import pandas as pd\n",
    "import seaborn as sns\n",
    "import matplotlib.pyplot as plt\n",
    "from matplotlib.backends.backend_pdf import PdfPages \n",
    "%matplotlib inline"
   ]
  },
  {
   "cell_type": "code",
   "execution_count": 2,
   "metadata": {},
   "outputs": [],
   "source": [
    "result = pd.read_csv(\"result_final.csv\")"
   ]
  },
  {
   "cell_type": "markdown",
   "metadata": {},
   "source": [
    "0: Neutral reply\n",
    "1: Auto Reply\n",
    "2: Manual Reply"
   ]
  },
  {
   "cell_type": "code",
   "execution_count": 3,
   "metadata": {},
   "outputs": [
    {
     "data": {
      "text/html": [
       "<div>\n",
       "<style scoped>\n",
       "    .dataframe tbody tr th:only-of-type {\n",
       "        vertical-align: middle;\n",
       "    }\n",
       "\n",
       "    .dataframe tbody tr th {\n",
       "        vertical-align: top;\n",
       "    }\n",
       "\n",
       "    .dataframe thead th {\n",
       "        text-align: right;\n",
       "    }\n",
       "</style>\n",
       "<table border=\"1\" class=\"dataframe\">\n",
       "  <thead>\n",
       "    <tr style=\"text-align: right;\">\n",
       "      <th></th>\n",
       "      <th>Timestamp</th>\n",
       "      <th>Name</th>\n",
       "      <th>JOY0</th>\n",
       "      <th>ANGER0</th>\n",
       "      <th>SADNESS0</th>\n",
       "      <th>FEAR0</th>\n",
       "      <th>JOY1</th>\n",
       "      <th>ANGER1</th>\n",
       "      <th>SADNESS1</th>\n",
       "      <th>FEAR1</th>\n",
       "      <th>JOY2</th>\n",
       "      <th>ANGER2</th>\n",
       "      <th>SADNESS2</th>\n",
       "      <th>FEAR2</th>\n",
       "      <th>エモーショナルリプライはどう思った？</th>\n",
       "      <th>エモーショナルリプライをする上で、ユーザの感情以外に必要なコンテクストは何だと思う？</th>\n",
       "      <th>どういうシナリオの時に、どういう感情でリプライして欲しいとかある？</th>\n",
       "      <th>逆に、どういう時にはいらない？</th>\n",
       "    </tr>\n",
       "  </thead>\n",
       "  <tbody>\n",
       "    <tr>\n",
       "      <th>0</th>\n",
       "      <td>06/01/2020 11:01:35</td>\n",
       "      <td>yuni</td>\n",
       "      <td>3</td>\n",
       "      <td>4</td>\n",
       "      <td>2</td>\n",
       "      <td>2</td>\n",
       "      <td>4</td>\n",
       "      <td>3</td>\n",
       "      <td>4</td>\n",
       "      <td>3</td>\n",
       "      <td>4</td>\n",
       "      <td>3</td>\n",
       "      <td>2</td>\n",
       "      <td>4</td>\n",
       "      <td>適切な答えが帰ってきたらいいね</td>\n",
       "      <td>励ますとか一緒に喜ぶはok</td>\n",
       "      <td>励ますとか一緒に喜ぶはok</td>\n",
       "      <td>怒ってる時はほっといて欲しい</td>\n",
       "    </tr>\n",
       "    <tr>\n",
       "      <th>1</th>\n",
       "      <td>06/01/2020 11:21:37</td>\n",
       "      <td>brian</td>\n",
       "      <td>4</td>\n",
       "      <td>3</td>\n",
       "      <td>4</td>\n",
       "      <td>4</td>\n",
       "      <td>5</td>\n",
       "      <td>4</td>\n",
       "      <td>5</td>\n",
       "      <td>5</td>\n",
       "      <td>4</td>\n",
       "      <td>4</td>\n",
       "      <td>3</td>\n",
       "      <td>2</td>\n",
       "      <td>most of them were appropriate, except for the ...</td>\n",
       "      <td>I don't think there is anything else</td>\n",
       "      <td>it depends on the situation. sometimes you wan...</td>\n",
       "      <td>when you want to be left alone</td>\n",
       "    </tr>\n",
       "    <tr>\n",
       "      <th>2</th>\n",
       "      <td>06/01/2020 11:42:19</td>\n",
       "      <td>shuu</td>\n",
       "      <td>3</td>\n",
       "      <td>2</td>\n",
       "      <td>2</td>\n",
       "      <td>2</td>\n",
       "      <td>4</td>\n",
       "      <td>3</td>\n",
       "      <td>3</td>\n",
       "      <td>4</td>\n",
       "      <td>4</td>\n",
       "      <td>3</td>\n",
       "      <td>4</td>\n",
       "      <td>3</td>\n",
       "      <td>NaN</td>\n",
       "      <td>NaN</td>\n",
       "      <td>NaN</td>\n",
       "      <td>NaN</td>\n",
       "    </tr>\n",
       "    <tr>\n",
       "      <th>3</th>\n",
       "      <td>06/01/2020 13:02:58</td>\n",
       "      <td>hideo</td>\n",
       "      <td>2</td>\n",
       "      <td>2</td>\n",
       "      <td>1</td>\n",
       "      <td>1</td>\n",
       "      <td>4</td>\n",
       "      <td>2</td>\n",
       "      <td>2</td>\n",
       "      <td>2</td>\n",
       "      <td>4</td>\n",
       "      <td>4</td>\n",
       "      <td>1</td>\n",
       "      <td>4</td>\n",
       "      <td>the grammar bugged me. another thing was I kne...</td>\n",
       "      <td>solutions as to how to solve the issue would b...</td>\n",
       "      <td>when i am sad i want the person to be helpful,...</td>\n",
       "      <td>I would not want it when I need real advice. a...</td>\n",
       "    </tr>\n",
       "    <tr>\n",
       "      <th>4</th>\n",
       "      <td>06/01/2020 15:02:12</td>\n",
       "      <td>koyo</td>\n",
       "      <td>3</td>\n",
       "      <td>3</td>\n",
       "      <td>1</td>\n",
       "      <td>4</td>\n",
       "      <td>4</td>\n",
       "      <td>2</td>\n",
       "      <td>4</td>\n",
       "      <td>4</td>\n",
       "      <td>4</td>\n",
       "      <td>4</td>\n",
       "      <td>3</td>\n",
       "      <td>4</td>\n",
       "      <td>lost walletの時にdont worryは絶対ないと思う。\\n対策を教えて欲しい。き...</td>\n",
       "      <td>初対面？使っていくうちに違う回答が欲しいからログとかをとる。</td>\n",
       "      <td>walletはdont worry ではない「that's so bad!」とかdriveの...</td>\n",
       "      <td>人と会いたくない時？SNSを使わない時。誰の意見も必要ない時。</td>\n",
       "    </tr>\n",
       "    <tr>\n",
       "      <th>5</th>\n",
       "      <td>06/01/2020 15:28:22</td>\n",
       "      <td>kenty</td>\n",
       "      <td>4</td>\n",
       "      <td>2</td>\n",
       "      <td>1</td>\n",
       "      <td>1</td>\n",
       "      <td>4</td>\n",
       "      <td>2</td>\n",
       "      <td>1</td>\n",
       "      <td>3</td>\n",
       "      <td>4</td>\n",
       "      <td>1</td>\n",
       "      <td>1</td>\n",
       "      <td>5</td>\n",
       "      <td>there was no sympathy. Cold</td>\n",
       "      <td>Nothing.</td>\n",
       "      <td>全部同情してくれる。喜んでいる時は喜んで欲しい。もうこれでも買って褒める。fearは大丈夫大丈夫。</td>\n",
       "      <td>怒ってる時なんだけど、しっかり同情してくれるなら使ってもいいかも。</td>\n",
       "    </tr>\n",
       "    <tr>\n",
       "      <th>6</th>\n",
       "      <td>06/01/2020 18:20:45</td>\n",
       "      <td>lindt</td>\n",
       "      <td>3</td>\n",
       "      <td>3</td>\n",
       "      <td>4</td>\n",
       "      <td>2</td>\n",
       "      <td>5</td>\n",
       "      <td>4</td>\n",
       "      <td>4</td>\n",
       "      <td>4</td>\n",
       "      <td>5</td>\n",
       "      <td>5</td>\n",
       "      <td>4</td>\n",
       "      <td>4</td>\n",
       "      <td>the automatic one did not really help me emoti...</td>\n",
       "      <td>how many times i've been talking about the sam...</td>\n",
       "      <td>joy and anger should be replied with joy and a...</td>\n",
       "      <td>When I can't be bothered, or when I am not alo...</td>\n",
       "    </tr>\n",
       "    <tr>\n",
       "      <th>7</th>\n",
       "      <td>06/01/2020 18:33:39</td>\n",
       "      <td>haefeli</td>\n",
       "      <td>2</td>\n",
       "      <td>3</td>\n",
       "      <td>1</td>\n",
       "      <td>4</td>\n",
       "      <td>5</td>\n",
       "      <td>1</td>\n",
       "      <td>4</td>\n",
       "      <td>4</td>\n",
       "      <td>2</td>\n",
       "      <td>4</td>\n",
       "      <td>1</td>\n",
       "      <td>5</td>\n",
       "      <td>not good. ok wait wait wait.チョット待って。ok well, i...</td>\n",
       "      <td>humor/sarcasm</td>\n",
       "      <td>Well, if I'm angry, i don't want it to reply w...</td>\n",
       "      <td>When it doesn't give me back the answer I want...</td>\n",
       "    </tr>\n",
       "    <tr>\n",
       "      <th>8</th>\n",
       "      <td>07/01/2020 11:46:17</td>\n",
       "      <td>sayyor</td>\n",
       "      <td>3</td>\n",
       "      <td>4</td>\n",
       "      <td>3</td>\n",
       "      <td>3</td>\n",
       "      <td>4</td>\n",
       "      <td>2</td>\n",
       "      <td>3</td>\n",
       "      <td>4</td>\n",
       "      <td>4</td>\n",
       "      <td>4</td>\n",
       "      <td>3</td>\n",
       "      <td>4</td>\n",
       "      <td>It's very short so a person would be more deta...</td>\n",
       "      <td>what is the duration of knowing this chatbot, ...</td>\n",
       "      <td>For anger, I want them to be encouraging. This...</td>\n",
       "      <td>You might use the chatbot less if you know tha...</td>\n",
       "    </tr>\n",
       "    <tr>\n",
       "      <th>9</th>\n",
       "      <td>28/01/2020 10:39:55</td>\n",
       "      <td>aya</td>\n",
       "      <td>3</td>\n",
       "      <td>3</td>\n",
       "      <td>3</td>\n",
       "      <td>3</td>\n",
       "      <td>4</td>\n",
       "      <td>3</td>\n",
       "      <td>4</td>\n",
       "      <td>4</td>\n",
       "      <td>4</td>\n",
       "      <td>4</td>\n",
       "      <td>5</td>\n",
       "      <td>5</td>\n",
       "      <td>NaN</td>\n",
       "      <td>NaN</td>\n",
       "      <td>NaN</td>\n",
       "      <td>NaN</td>\n",
       "    </tr>\n",
       "  </tbody>\n",
       "</table>\n",
       "</div>"
      ],
      "text/plain": [
       "             Timestamp     Name  JOY0  ANGER0  SADNESS0  FEAR0  JOY1  ANGER1  \\\n",
       "0  06/01/2020 11:01:35     yuni     3       4         2      2     4       3   \n",
       "1  06/01/2020 11:21:37    brian     4       3         4      4     5       4   \n",
       "2  06/01/2020 11:42:19     shuu     3       2         2      2     4       3   \n",
       "3  06/01/2020 13:02:58    hideo     2       2         1      1     4       2   \n",
       "4  06/01/2020 15:02:12     koyo     3       3         1      4     4       2   \n",
       "5  06/01/2020 15:28:22    kenty     4       2         1      1     4       2   \n",
       "6  06/01/2020 18:20:45    lindt     3       3         4      2     5       4   \n",
       "7  06/01/2020 18:33:39  haefeli     2       3         1      4     5       1   \n",
       "8  07/01/2020 11:46:17   sayyor     3       4         3      3     4       2   \n",
       "9  28/01/2020 10:39:55      aya     3       3         3      3     4       3   \n",
       "\n",
       "   SADNESS1  FEAR1  JOY2  ANGER2  SADNESS2  FEAR2  \\\n",
       "0         4      3     4       3         2      4   \n",
       "1         5      5     4       4         3      2   \n",
       "2         3      4     4       3         4      3   \n",
       "3         2      2     4       4         1      4   \n",
       "4         4      4     4       4         3      4   \n",
       "5         1      3     4       1         1      5   \n",
       "6         4      4     5       5         4      4   \n",
       "7         4      4     2       4         1      5   \n",
       "8         3      4     4       4         3      4   \n",
       "9         4      4     4       4         5      5   \n",
       "\n",
       "                                  エモーショナルリプライはどう思った？  \\\n",
       "0                                    適切な答えが帰ってきたらいいね   \n",
       "1  most of them were appropriate, except for the ...   \n",
       "2                                                NaN   \n",
       "3  the grammar bugged me. another thing was I kne...   \n",
       "4  lost walletの時にdont worryは絶対ないと思う。\\n対策を教えて欲しい。き...   \n",
       "5                        there was no sympathy. Cold   \n",
       "6  the automatic one did not really help me emoti...   \n",
       "7  not good. ok wait wait wait.チョット待って。ok well, i...   \n",
       "8  It's very short so a person would be more deta...   \n",
       "9                                                NaN   \n",
       "\n",
       "          エモーショナルリプライをする上で、ユーザの感情以外に必要なコンテクストは何だと思う？  \\\n",
       "0                                      励ますとか一緒に喜ぶはok   \n",
       "1               I don't think there is anything else   \n",
       "2                                                NaN   \n",
       "3  solutions as to how to solve the issue would b...   \n",
       "4                     初対面？使っていくうちに違う回答が欲しいからログとかをとる。   \n",
       "5                                           Nothing.   \n",
       "6  how many times i've been talking about the sam...   \n",
       "7                                      humor/sarcasm   \n",
       "8  what is the duration of knowing this chatbot, ...   \n",
       "9                                                NaN   \n",
       "\n",
       "                   どういうシナリオの時に、どういう感情でリプライして欲しいとかある？  \\\n",
       "0                                      励ますとか一緒に喜ぶはok   \n",
       "1  it depends on the situation. sometimes you wan...   \n",
       "2                                                NaN   \n",
       "3  when i am sad i want the person to be helpful,...   \n",
       "4  walletはdont worry ではない「that's so bad!」とかdriveの...   \n",
       "5  全部同情してくれる。喜んでいる時は喜んで欲しい。もうこれでも買って褒める。fearは大丈夫大丈夫。   \n",
       "6  joy and anger should be replied with joy and a...   \n",
       "7  Well, if I'm angry, i don't want it to reply w...   \n",
       "8  For anger, I want them to be encouraging. This...   \n",
       "9                                                NaN   \n",
       "\n",
       "                                     逆に、どういう時にはいらない？  \n",
       "0                                     怒ってる時はほっといて欲しい  \n",
       "1                     when you want to be left alone  \n",
       "2                                                NaN  \n",
       "3  I would not want it when I need real advice. a...  \n",
       "4                    人と会いたくない時？SNSを使わない時。誰の意見も必要ない時。  \n",
       "5                  怒ってる時なんだけど、しっかり同情してくれるなら使ってもいいかも。  \n",
       "6  When I can't be bothered, or when I am not alo...  \n",
       "7  When it doesn't give me back the answer I want...  \n",
       "8  You might use the chatbot less if you know tha...  \n",
       "9                                                NaN  "
      ]
     },
     "execution_count": 3,
     "metadata": {},
     "output_type": "execute_result"
    }
   ],
   "source": [
    "result"
   ]
  },
  {
   "cell_type": "code",
   "execution_count": 4,
   "metadata": {},
   "outputs": [],
   "source": [
    "non = result.iloc[:,2:6]\n",
    "auto = result.iloc[:,6:10]\n",
    "manual = result.iloc[:,10:14]\n",
    "scenario = [non,auto,manual]"
   ]
  },
  {
   "cell_type": "markdown",
   "metadata": {},
   "source": [
    "## Box Plot"
   ]
  },
  {
   "cell_type": "code",
   "execution_count": 5,
   "metadata": {},
   "outputs": [
    {
     "data": {
      "image/png": "[encoded data removed]",
      "text/plain": [
       "<Figure size 432x288 with 1 Axes>"
      ]
     },
     "metadata": {
      "needs_background": "light"
     },
     "output_type": "display_data"
    },
    {
     "data": {
      "image/png": "[encoded data removed]",
      "text/plain": [
       "<Figure size 432x288 with 1 Axes>"
      ]
     },
     "metadata": {
      "needs_background": "light"
     },
     "output_type": "display_data"
    },
    {
     "data": {
      "image/png": "[encoded data removed]",
      "text/plain": [
       "<Figure size 432x288 with 1 Axes>"
      ]
     },
     "metadata": {
      "needs_background": "light"
     },
     "output_type": "display_data"
    },
    {
     "data": {
      "image/png": "[encoded data removed]",
      "text/plain": [
       "<Figure size 432x288 with 1 Axes>"
      ]
     },
     "metadata": {
      "needs_background": "light"
     },
     "output_type": "display_data"
    }
   ],
   "source": [
    "for i in range(0,4):\n",
    "    scenario = (\"Joy\",\"Anger\",\"Sadness\",\"Fear\")\n",
    "\n",
    "    n = non.iloc[:,i].tolist()\n",
    "    a = auto.iloc[:,i].tolist()\n",
    "    m = manual.iloc[:,i].tolist()\n",
    "\n",
    "    \n",
    "    points = (n,a,m)\n",
    "\n",
    "    fig, ax = plt.subplots()\n",
    "\n",
    "    bp = ax.boxplot(points)\n",
    "    ax.set_xticklabels([\"No\",\"Auto\",\"Manual\"])\n",
    "    \n",
    "    plt.title(scenario[i])\n",
    "    plt.xlabel('Adaptation')\n",
    "    plt.ylabel('Scale')\n",
    "    plt.ylim([0,5])\n",
    "#     # set path\n",
    "    pp = PdfPages('./output/'+str(scenario[i])+'_box.pdf')\n",
    "\n",
    "    # save figure\n",
    "    pp.savefig(fig)\n",
    "\n",
    "    # close file\n",
    "    pp.close()\n"
   ]
  },
  {
   "cell_type": "code",
   "execution_count": 6,
   "metadata": {},
   "outputs": [
    {
     "name": "stdout",
     "output_type": "stream",
     "text": [
      "            JOY0     ANGER0   SADNESS0      FEAR0       JOY1     ANGER1  \\\n",
      "count  10.000000  10.000000  10.000000  10.000000  10.000000  10.000000   \n",
      "mean    3.000000   2.900000   2.200000   2.600000   4.300000   2.600000   \n",
      "std     0.666667   0.737865   1.229273   1.173788   0.483046   0.966092   \n",
      "min     2.000000   2.000000   1.000000   1.000000   4.000000   1.000000   \n",
      "25%     3.000000   2.250000   1.000000   2.000000   4.000000   2.000000   \n",
      "50%     3.000000   3.000000   2.000000   2.500000   4.000000   2.500000   \n",
      "75%     3.000000   3.000000   3.000000   3.750000   4.750000   3.000000   \n",
      "max     4.000000   4.000000   4.000000   4.000000   5.000000   4.000000   \n",
      "\n",
      "        SADNESS1      FEAR1       JOY2     ANGER2   SADNESS2      FEAR2  \n",
      "count  10.000000  10.000000  10.000000  10.000000  10.000000  10.000000  \n",
      "mean    3.400000   3.700000   3.900000   3.600000   2.700000   4.000000  \n",
      "std     1.173788   0.823273   0.737865   1.074968   1.418136   0.942809  \n",
      "min     1.000000   2.000000   2.000000   1.000000   1.000000   2.000000  \n",
      "25%     3.000000   3.250000   4.000000   3.250000   1.250000   4.000000  \n",
      "50%     4.000000   4.000000   4.000000   4.000000   3.000000   4.000000  \n",
      "75%     4.000000   4.000000   4.000000   4.000000   3.750000   4.750000  \n",
      "max     5.000000   5.000000   5.000000   5.000000   5.000000   5.000000  \n"
     ]
    }
   ],
   "source": [
    "print(result.describe())"
   ]
  },
  {
   "cell_type": "markdown",
   "metadata": {},
   "source": [
    "## Stack Bar Plot"
   ]
  },
  {
   "cell_type": "code",
   "execution_count": 7,
   "metadata": {},
   "outputs": [
    {
     "name": "stdout",
     "output_type": "stream",
     "text": [
      "              No       Auto     Manual\n",
      "count  10.000000  10.000000  10.000000\n",
      "mean    3.000000   4.300000   3.900000\n",
      "std     0.666667   0.483046   0.737865\n",
      "min     2.000000   4.000000   2.000000\n",
      "25%     3.000000   4.000000   4.000000\n",
      "50%     3.000000   4.000000   4.000000\n",
      "75%     3.000000   4.750000   4.000000\n",
      "max     4.000000   5.000000   5.000000\n",
      "              No       Auto     Manual\n",
      "count  10.000000  10.000000  10.000000\n",
      "mean    2.900000   2.600000   3.600000\n",
      "std     0.737865   0.966092   1.074968\n",
      "min     2.000000   1.000000   1.000000\n",
      "25%     2.250000   2.000000   3.250000\n",
      "50%     3.000000   2.500000   4.000000\n",
      "75%     3.000000   3.000000   4.000000\n",
      "max     4.000000   4.000000   5.000000\n",
      "              No       Auto     Manual\n",
      "count  10.000000  10.000000  10.000000\n",
      "mean    2.200000   3.400000   2.700000\n",
      "std     1.229273   1.173788   1.418136\n",
      "min     1.000000   1.000000   1.000000\n",
      "25%     1.000000   3.000000   1.250000\n",
      "50%     2.000000   4.000000   3.000000\n",
      "75%     3.000000   4.000000   3.750000\n",
      "max     4.000000   5.000000   5.000000\n",
      "              No       Auto     Manual\n",
      "count  10.000000  10.000000  10.000000\n",
      "mean    2.600000   3.700000   4.000000\n",
      "std     1.173788   0.823273   0.942809\n",
      "min     1.000000   2.000000   2.000000\n",
      "25%     2.000000   3.250000   4.000000\n",
      "50%     2.500000   4.000000   4.000000\n",
      "75%     3.750000   4.000000   4.750000\n",
      "max     4.000000   5.000000   5.000000\n"
     ]
    },
    {
     "data": {
      "image/png": "[encoded data removed]",
      "text/plain": [
       "<Figure size 432x288 with 1 Axes>"
      ]
     },
     "metadata": {
      "needs_background": "light"
     },
     "output_type": "display_data"
    },
    {
     "data": {
      "image/png": "[encoded data removed]",
      "text/plain": [
       "<Figure size 432x288 with 1 Axes>"
      ]
     },
     "metadata": {
      "needs_background": "light"
     },
     "output_type": "display_data"
    },
    {
     "data": {
      "image/png": "[encoded data removed]",
      "text/plain": [
       "<Figure size 432x288 with 1 Axes>"
      ]
     },
     "metadata": {
      "needs_background": "light"
     },
     "output_type": "display_data"
    },
    {
     "data": {
      "image/png": "[encoded data removed]",
      "text/plain": [
       "<Figure size 432x288 with 1 Axes>"
      ]
     },
     "metadata": {
      "needs_background": "light"
     },
     "output_type": "display_data"
    }
   ],
   "source": [
    "likert_colors = ['firebrick','lightcoral','gainsboro','cornflowerblue', 'darkblue']\n",
    "\n",
    "for i in range(0,4):\n",
    "    scenario = (\"Joy\",\"Anger\",\"Sadness\",\"Fear\")\n",
    "\n",
    "\n",
    "    n = non.iloc[:,i]\n",
    "    a = auto.iloc[:,i]\n",
    "    m = manual.iloc[:,i]\n",
    "\n",
    "    df = pd.concat([n,a,m],axis=1)\n",
    "    df.columns =[\"No\",\"Auto\",\"Manual\"]\n",
    "    print(df.describe())\n",
    "    newdf = pd.DataFrame(columns=[1,2,3,4,5])\n",
    "    newdf = newdf.append(df[\"No\"].value_counts().sort_index())\n",
    "    newdf = newdf.append(df[\"Auto\"].value_counts().sort_index())\n",
    "    newdf = newdf.append(df[\"Manual\"].value_counts().sort_index())\n",
    "    newdf = newdf.rename(columns={1: 'Strongly Dislike',2: 'Dislike',3: 'Neutral',4: 'Like',5: 'Strongly Like'})\n",
    "\n",
    "    newdf.to_csv(\"./output/plot.csv\")\n",
    "#     middles = newdf[[1, 2]].sum(axis=1)+newdf[3]*.5\n",
    "#     longest = middles.max()\n",
    "#     complete_longest = newdf.sum(axis=1).max()\n",
    "#     newdf.insert(0, '', (middles - longest).abs())\n",
    "    newdf.plot.bar(stacked=True, color=likert_colors, edgecolor='none')\n",
    "#     z = plt.axvline(longest, linestyle='--', color='black', alpha=.5)\n",
    "#     z.set_zorder(-1)\n",
    "    plt.title(scenario[i],size=20)\n",
    "    plt.tick_params(labelsize=12)\n",
    "#     plt.xlim(0,12)\n",
    "    plt.tick_params(axis='x',labelsize=18,rotation=0)\n",
    "    plt.legend( bbox_to_anchor=(1.05, 1),loc=\"upper left\", borderaxespad=0)\n",
    "#     plt.legend(loc=\"upper center\",fontsize=32, ncol=5, bbox_to_anchor=(0.5, 1), frameon=False, borderaxespad=-5, columnspacing=3.5)\n",
    "\n",
    "    plt.savefig('./output/'+str(scenario[i])+'_stack.png')\n",
    "    "
   ]
  },
  {
   "cell_type": "code",
   "execution_count": 8,
   "metadata": {},
   "outputs": [],
   "source": [
    "from statistics import mean, median,variance,stdev"
   ]
  },
  {
   "cell_type": "markdown",
   "metadata": {},
   "source": [
    "### Average"
   ]
  },
  {
   "cell_type": "code",
   "execution_count": 9,
   "metadata": {},
   "outputs": [
    {
     "data": {
      "image/png": "[encoded data removed]",
      "text/plain": [
       "<Figure size 432x288 with 1 Axes>"
      ]
     },
     "metadata": {
      "needs_background": "light"
     },
     "output_type": "display_data"
    },
    {
     "data": {
      "image/png": "[encoded data removed]",
      "text/plain": [
       "<Figure size 432x288 with 1 Axes>"
      ]
     },
     "metadata": {
      "needs_background": "light"
     },
     "output_type": "display_data"
    },
    {
     "data": {
      "image/png": "[encoded data removed]",
      "text/plain": [
       "<Figure size 432x288 with 1 Axes>"
      ]
     },
     "metadata": {
      "needs_background": "light"
     },
     "output_type": "display_data"
    },
    {
     "data": {
      "image/png": "[encoded data removed]",
      "text/plain": [
       "<Figure size 432x288 with 1 Axes>"
      ]
     },
     "metadata": {
      "needs_background": "light"
     },
     "output_type": "display_data"
    },
    {
     "data": {
      "image/png": "[encoded data removed]",
      "text/plain": [
       "<Figure size 432x288 with 1 Axes>"
      ]
     },
     "metadata": {
      "needs_background": "light"
     },
     "output_type": "display_data"
    }
   ],
   "source": [
    "for i in range(0,4):\n",
    "    scenario = (\"Joy\",\"Anger\",\"Sadness\",\"Fear\")\n",
    "    n = non.iloc[:,i]\n",
    "    a = auto.iloc[:,i]\n",
    "    m = manual.iloc[:,i]\n",
    "\n",
    "    df = pd.concat([n,a,m],axis=1)\n",
    "    df.columns =[\"No\",\"Auto\",\"Manual\"]\n",
    "    label = df.sum().index.tolist()\n",
    "    value = df.sum().values/8\n",
    "    plt.bar(label,value)\n",
    "    plt.title(scenario[i])\n",
    "    plt.show()\n",
    "    pp = PdfPages('./output/'+str(scenario[i])+'_sum.pdf')\n",
    "    plt.ylim(0,5)\n",
    "    # save figure\n",
    "    pp.savefig(fig)\n",
    "\n",
    "    # close file\n",
    "    pp.close()"
   ]
  },
  {
   "cell_type": "code",
   "execution_count": 10,
   "metadata": {},
   "outputs": [
    {
     "data": {
      "text/plain": [
       "array([3.25 , 4.625, 5.   ])"
      ]
     },
     "execution_count": 10,
     "metadata": {},
     "output_type": "execute_result"
    }
   ],
   "source": [
    "df.sum().values/8"
   ]
  },
  {
   "cell_type": "markdown",
   "metadata": {},
   "source": [
    "### Friedman Test"
   ]
  },
  {
   "cell_type": "code",
   "execution_count": 11,
   "metadata": {},
   "outputs": [],
   "source": [
    "import csv\n",
    "import argparse\n",
    "import numpy as np\n",
    "import scipy.stats as stats\n",
    "\n",
    "\n",
    "class data_group:\n",
    "    def __init__(self, group_name, data_array):\n",
    "        self.group_name = group_name\n",
    "        self.data_array = data_array\n",
    "\n",
    "\n",
    "def data_reader(filename):\n",
    "    group_list = []\n",
    "    with open(filename, 'r') as r:\n",
    "        data_reader = csv.reader(r)\n",
    "        for row in data_reader:\n",
    "            group_name = row[0]\n",
    "            data_array = []\n",
    "            for data in row[1:]:\n",
    "                data_array.append(float(data))\n",
    "\n",
    "            group_list.append(data_group(group_name,data_array))\n",
    "\n",
    "    return group_list\n",
    "\n",
    "\n",
    "def output_pvalue(file,name):\n",
    "    group_list = data_reader(file)\n",
    "\n",
    "    data_list = []\n",
    "    for group_xi in group_list:\n",
    "        data_list.append(group_xi.data_array)\n",
    "    data_array = np.array(data_list)\n",
    "\n",
    "    statistic, p_value = stats.friedmanchisquare(*(data_array[i,:] for i in range(data_array.shape[0])))\n",
    "\n",
    "    if(p_value<0.05):\n",
    "        print(name + ' p-value = '+str(p_value)+'*')\n",
    "    else:\n",
    "        print(name + ' p-value = '+str(p_value))\n",
    " \n"
   ]
  },
  {
   "cell_type": "code",
   "execution_count": 12,
   "metadata": {},
   "outputs": [
    {
     "name": "stdout",
     "output_type": "stream",
     "text": [
      "Joy p-value = 0.4372741889138688\n",
      "Anger p-value = 0.2984697431002704\n",
      "Sadness p-value = 0.19533826971266466\n",
      "Fear p-value = 0.7727602750730946\n"
     ]
    }
   ],
   "source": [
    "for i in range(0,4):\n",
    "    scenario = (\"Joy\",\"Anger\",\"Sadness\",\"Fear\")\n",
    "    n = non.iloc[:,i]\n",
    "    a = auto.iloc[:,i]\n",
    "    m = manual.iloc[:,i]\n",
    "\n",
    "    df = pd.concat([n,a,m],axis=1)\n",
    "    df.columns =[\"No\",\"Auto\",\"Manual\"]\n",
    "\n",
    "    file = str(i)+\"_df.csv\"\n",
    "    df.to_csv(\"./output/\"+file,header=False, index=False)\n",
    "    output_pvalue(\"./output/\"+file,scenario[i])\n",
    "    "
   ]
  },
  {
   "cell_type": "code",
   "execution_count": 13,
   "metadata": {},
   "outputs": [],
   "source": [
    "import warnings\n",
    "warnings.filterwarnings('ignore')"
   ]
  },
  {
   "cell_type": "markdown",
   "metadata": {},
   "source": [
    "### Wilcoxon"
   ]
  },
  {
   "cell_type": "code",
   "execution_count": 14,
   "metadata": {},
   "outputs": [
    {
     "name": "stdout",
     "output_type": "stream",
     "text": [
      "Joy_No*Auto statistics: 0.0\n",
      "Joy_No*Auto p-value: 0.005887981359559556\n",
      "Joy_No*Manual statistics: 0.0\n",
      "Joy_No*Manual p-value: 0.013874405883025447\n",
      "Joy_Auto*Manual statistics: 0.0\n",
      "Joy_Auto*Manual p-value: 0.17971249487899976\n",
      "Anger_No*Auto statistics: 9.0\n",
      "Anger_No*Auto p-value: 0.3795370857491177\n",
      "Anger_No*Manual statistics: 8.0\n",
      "Anger_No*Manual p-value: 0.0701822587403976\n",
      "Anger_Auto*Manual statistics: 2.0\n",
      "Anger_Auto*Manual p-value: 0.039591763236690385\n",
      "Sadness_No*Auto statistics: 0.0\n",
      "Sadness_No*Auto p-value: 0.0157641152996124\n",
      "Sadness_No*Manual statistics: 1.0\n",
      "Sadness_No*Manual p-value: 0.1305700181157362\n",
      "Sadness_Auto*Manual statistics: 5.0\n",
      "Sadness_Auto*Manual p-value: 0.12064542533634502\n",
      "Fear_No*Auto statistics: 0.0\n",
      "Fear_No*Auto p-value: 0.009374768459434876\n",
      "Fear_No*Manual statistics: 5.5\n",
      "Fear_No*Manual p-value: 0.04143161833669888\n",
      "Fear_Auto*Manual statistics: 9.5\n",
      "Fear_Auto*Manual p-value: 0.4377282589388055\n"
     ]
    }
   ],
   "source": [
    "import itertools\n",
    "for i in range(0,4):\n",
    "    scenario = (\"Joy\",\"Anger\",\"Sadness\",\"Fear\")\n",
    "    n = non.iloc[:,i]\n",
    "    a = auto.iloc[:,i]\n",
    "    m = manual.iloc[:,i]\n",
    "\n",
    "    df = pd.concat([n,a,m],axis=1)\n",
    "    df.columns =[\"No\",\"Auto\",\"Manual\"]    \n",
    "    conb = list(itertools.combinations(df.columns,2))\n",
    "    for c in range(len(conb)):\n",
    "        x = np.array(df[conb[c][0]].tolist())\n",
    "        y = np.array(df[conb[c][1]].tolist())\n",
    "        stat, p = stats.wilcoxon(x, y) # Wilcoxonの順位和検定（Mann-Whitney検定）\n",
    "        print('{}_{}*{} statistics: {}'.format(scenario[i],conb[c][0],conb[c][1],stat))\n",
    "        print('{}_{}*{} p-value: {}'.format(scenario[i],conb[c][0],conb[c][1],p))"
   ]
  }
 ],
 "metadata": {
  "kernelspec": {
   "display_name": "Python 3",
   "language": "python",
   "name": "python3"
  },
  "language_info": {
   "codemirror_mode": {
    "name": "ipython",
    "version": 3
   },
   "file_extension": ".py",
   "mimetype": "text/x-python",
   "name": "python",
   "nbconvert_exporter": "python",
   "pygments_lexer": "ipython3",
   "version": "3.7.0"
  }
 },
 "nbformat": 4,
 "nbformat_minor": 2
}
